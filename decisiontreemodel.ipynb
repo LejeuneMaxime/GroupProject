{
 "cells": [
  {
   "cell_type": "code",
   "execution_count": 1,
   "id": "9987a94d",
   "metadata": {},
   "outputs": [],
   "source": [
    "from IPython.display import display\n",
    "import json\n",
    "import pandas as pd\n",
    "pd.options.display.max_columns = None # Display all columns of a dataframe\n",
    "pd.options.display.max_rows = 700\n",
    "from pprint import pprint\n",
    "import time\n",
    "import os\n",
    "from selenium import webdriver\n",
    "import re\n",
    "import requests\n",
    "from bs4 import BeautifulSoup"
   ]
  },
  {
   "cell_type": "code",
   "execution_count": 2,
   "id": "b0ac7f20",
   "metadata": {},
   "outputs": [],
   "source": [
    "import numpy as np\n",
    "import pandas as pd\n",
    "# import patsy\n",
    "\n",
    "from sklearn.model_selection import GridSearchCV, KFold, train_test_split\n",
    "from sklearn.linear_model import LinearRegression\n",
    "from sklearn.model_selection import train_test_split\n",
    "from sklearn.metrics import mean_squared_error, mean_absolute_error, r2_score, median_absolute_error, explained_variance_score\n",
    "import seaborn as sns\n",
    "import matplotlib.pyplot as plt\n",
    "from sklearn.tree import DecisionTreeRegressor\n",
    "from sklearn.preprocessing import OneHotEncoder\n",
    "from sklearn.compose import ColumnTransformer\n",
    "from sklearn.preprocessing import StandardScaler, OneHotEncoder\n",
    "from sklearn.pipeline import Pipeline\n",
    "from sklearn.metrics import accuracy_score\n"
   ]
  },
  {
   "cell_type": "code",
   "execution_count": 3,
   "id": "92563e1e",
   "metadata": {
    "scrolled": true
   },
   "outputs": [
    {
     "data": {
      "text/html": [
       "<div>\n",
       "<style scoped>\n",
       "    .dataframe tbody tr th:only-of-type {\n",
       "        vertical-align: middle;\n",
       "    }\n",
       "\n",
       "    .dataframe tbody tr th {\n",
       "        vertical-align: top;\n",
       "    }\n",
       "\n",
       "    .dataframe thead th {\n",
       "        text-align: right;\n",
       "    }\n",
       "</style>\n",
       "<table border=\"1\" class=\"dataframe\">\n",
       "  <thead>\n",
       "    <tr style=\"text-align: right;\">\n",
       "      <th></th>\n",
       "      <th>Name</th>\n",
       "      <th>Rating</th>\n",
       "      <th>Type</th>\n",
       "      <th>Address</th>\n",
       "      <th>Average budget</th>\n",
       "      <th>Maximum capacity</th>\n",
       "    </tr>\n",
       "  </thead>\n",
       "  <tbody>\n",
       "    <tr>\n",
       "      <th>0</th>\n",
       "      <td>Le Chalet De La Forêt</td>\n",
       "      <td>4.25</td>\n",
       "      <td>Français</td>\n",
       "      <td>1180 Uccle</td>\n",
       "      <td>180</td>\n",
       "      <td>Not Available</td>\n",
       "    </tr>\n",
       "    <tr>\n",
       "      <th>1</th>\n",
       "      <td>La Buvette</td>\n",
       "      <td>4.3</td>\n",
       "      <td>Français</td>\n",
       "      <td>1060 Saint-Gilles</td>\n",
       "      <td>58</td>\n",
       "      <td>Not Available</td>\n",
       "    </tr>\n",
       "    <tr>\n",
       "      <th>2</th>\n",
       "      <td>Fanny Thai</td>\n",
       "      <td>4.25</td>\n",
       "      <td>Thaïlandais</td>\n",
       "      <td>1000 Bruxelles</td>\n",
       "      <td>24</td>\n",
       "      <td>Not Available</td>\n",
       "    </tr>\n",
       "    <tr>\n",
       "      <th>3</th>\n",
       "      <td>Brinz'L</td>\n",
       "      <td>4.166666667</td>\n",
       "      <td>Français</td>\n",
       "      <td>1180 Uccle</td>\n",
       "      <td>70</td>\n",
       "      <td>Not Available</td>\n",
       "    </tr>\n",
       "    <tr>\n",
       "      <th>4</th>\n",
       "      <td>Gou</td>\n",
       "      <td>4.166666667</td>\n",
       "      <td>Français</td>\n",
       "      <td>1150 Woluwe-Saint-Pierre</td>\n",
       "      <td>35</td>\n",
       "      <td>Not Available</td>\n",
       "    </tr>\n",
       "  </tbody>\n",
       "</table>\n",
       "</div>"
      ],
      "text/plain": [
       "                    Name       Rating         Type  \\\n",
       "0  Le Chalet De La Forêt         4.25     Français   \n",
       "1             La Buvette          4.3     Français   \n",
       "2             Fanny Thai         4.25  Thaïlandais   \n",
       "3                Brinz'L  4.166666667     Français   \n",
       "4                    Gou  4.166666667     Français   \n",
       "\n",
       "                                     Address Average budget Maximum capacity  \n",
       "0                                1180 Uccle             180    Not Available  \n",
       "1                         1060 Saint-Gilles              58    Not Available  \n",
       "2                             1000 Bruxelles             24    Not Available  \n",
       "3                                1180 Uccle              70    Not Available  \n",
       "4                  1150 Woluwe-Saint-Pierre              35    Not Available  "
      ]
     },
     "execution_count": 3,
     "metadata": {},
     "output_type": "execute_result"
    }
   ],
   "source": [
    "df18=pd.read_csv(\"DataRestaurants.csv\")\n",
    "df18.head()"
   ]
  },
  {
   "cell_type": "code",
   "execution_count": 4,
   "id": "f1a8ba87",
   "metadata": {
    "scrolled": true
   },
   "outputs": [
    {
     "name": "stdout",
     "output_type": "stream",
     "text": [
      "Name                  0\n",
      "Rating                0\n",
      "Type                  0\n",
      "Address               0\n",
      "Average budget       75\n",
      "Maximum capacity    483\n",
      "dtype: int64\n"
     ]
    }
   ],
   "source": [
    "df18.columns\n",
    "na_counts = (df18 == 'Not Available').sum()\n",
    "print(na_counts)"
   ]
  },
  {
   "cell_type": "code",
   "execution_count": 5,
   "id": "38c4355e",
   "metadata": {},
   "outputs": [
    {
     "data": {
      "text/html": [
       "<div>\n",
       "<style scoped>\n",
       "    .dataframe tbody tr th:only-of-type {\n",
       "        vertical-align: middle;\n",
       "    }\n",
       "\n",
       "    .dataframe tbody tr th {\n",
       "        vertical-align: top;\n",
       "    }\n",
       "\n",
       "    .dataframe thead th {\n",
       "        text-align: right;\n",
       "    }\n",
       "</style>\n",
       "<table border=\"1\" class=\"dataframe\">\n",
       "  <thead>\n",
       "    <tr style=\"text-align: right;\">\n",
       "      <th></th>\n",
       "      <th>Name</th>\n",
       "      <th>Rating</th>\n",
       "      <th>Type</th>\n",
       "      <th>Address</th>\n",
       "      <th>Average budget</th>\n",
       "    </tr>\n",
       "  </thead>\n",
       "  <tbody>\n",
       "    <tr>\n",
       "      <th>0</th>\n",
       "      <td>Le Chalet De La Forêt</td>\n",
       "      <td>4.25</td>\n",
       "      <td>Français</td>\n",
       "      <td>1180 Uccle</td>\n",
       "      <td>180</td>\n",
       "    </tr>\n",
       "    <tr>\n",
       "      <th>1</th>\n",
       "      <td>La Buvette</td>\n",
       "      <td>4.3</td>\n",
       "      <td>Français</td>\n",
       "      <td>1060 Saint-Gilles</td>\n",
       "      <td>58</td>\n",
       "    </tr>\n",
       "    <tr>\n",
       "      <th>2</th>\n",
       "      <td>Fanny Thai</td>\n",
       "      <td>4.25</td>\n",
       "      <td>Thaïlandais</td>\n",
       "      <td>1000 Bruxelles</td>\n",
       "      <td>24</td>\n",
       "    </tr>\n",
       "    <tr>\n",
       "      <th>3</th>\n",
       "      <td>Brinz'L</td>\n",
       "      <td>4.166666667</td>\n",
       "      <td>Français</td>\n",
       "      <td>1180 Uccle</td>\n",
       "      <td>70</td>\n",
       "    </tr>\n",
       "    <tr>\n",
       "      <th>4</th>\n",
       "      <td>Gou</td>\n",
       "      <td>4.166666667</td>\n",
       "      <td>Français</td>\n",
       "      <td>1150 Woluwe-Saint-Pierre</td>\n",
       "      <td>35</td>\n",
       "    </tr>\n",
       "  </tbody>\n",
       "</table>\n",
       "</div>"
      ],
      "text/plain": [
       "                    Name       Rating         Type  \\\n",
       "0  Le Chalet De La Forêt         4.25     Français   \n",
       "1             La Buvette          4.3     Français   \n",
       "2             Fanny Thai         4.25  Thaïlandais   \n",
       "3                Brinz'L  4.166666667     Français   \n",
       "4                    Gou  4.166666667     Français   \n",
       "\n",
       "                                     Address Average budget  \n",
       "0                                1180 Uccle             180  \n",
       "1                         1060 Saint-Gilles              58  \n",
       "2                             1000 Bruxelles             24  \n",
       "3                                1180 Uccle              70  \n",
       "4                  1150 Woluwe-Saint-Pierre              35  "
      ]
     },
     "execution_count": 5,
     "metadata": {},
     "output_type": "execute_result"
    }
   ],
   "source": [
    "del df18['Maximum capacity']\n",
    "df18.head()"
   ]
  },
  {
   "cell_type": "code",
   "execution_count": 6,
   "id": "6c41475d",
   "metadata": {},
   "outputs": [],
   "source": [
    "df18 = df18.drop(df18[df18.eq('Not available').any(axis=1)].index)\n",
    "df18 = df18.reset_index(drop=True)"
   ]
  },
  {
   "cell_type": "code",
   "execution_count": 7,
   "id": "65b5bc27",
   "metadata": {},
   "outputs": [],
   "source": [
    "df18 = df18.drop(df18[df18.eq('Not Available').any(axis=1)].index)\n",
    "df18 = df18.reset_index(drop=True)"
   ]
  },
  {
   "cell_type": "code",
   "execution_count": 8,
   "id": "c3fbfe0b",
   "metadata": {},
   "outputs": [
    {
     "data": {
      "text/plain": [
       "(395, 5)"
      ]
     },
     "execution_count": 8,
     "metadata": {},
     "output_type": "execute_result"
    }
   ],
   "source": [
    "df18.shape"
   ]
  },
  {
   "cell_type": "code",
   "execution_count": 9,
   "id": "34b39eac",
   "metadata": {
    "scrolled": true
   },
   "outputs": [
    {
     "name": "stdout",
     "output_type": "stream",
     "text": [
      "Name               object\n",
      "Rating            float64\n",
      "Type               object\n",
      "Address            object\n",
      "Average budget    float64\n",
      "dtype: object\n"
     ]
    }
   ],
   "source": [
    "df18['Average budget'] = pd.to_numeric(df18['Average budget'], errors='coerce')\n",
    "df18['Rating'] = pd.to_numeric(df18['Rating'], errors='coerce')\n",
    "print(df18.dtypes)"
   ]
  },
  {
   "cell_type": "code",
   "execution_count": 10,
   "id": "906ac14f",
   "metadata": {},
   "outputs": [],
   "source": [
    "df18 = df18.dropna()"
   ]
  },
  {
   "cell_type": "code",
   "execution_count": 11,
   "id": "f4d51679",
   "metadata": {},
   "outputs": [],
   "source": [
    "X = df18.loc[:, ['Type', 'Address', 'Average budget']]\n",
    "y=df18['Rating']"
   ]
  },
  {
   "cell_type": "code",
   "execution_count": 12,
   "id": "74100fd4",
   "metadata": {},
   "outputs": [],
   "source": [
    "categorical_features = ['Type', 'Address']\n"
   ]
  },
  {
   "cell_type": "code",
   "execution_count": 13,
   "id": "667742c4",
   "metadata": {},
   "outputs": [],
   "source": [
    "preprocessor = ColumnTransformer(\n",
    "    transformers=[('cat', OneHotEncoder(), categorical_features)],\n",
    "    remainder='passthrough'\n",
    ")\n",
    "X_encoded = preprocessor.fit_transform(X)\n"
   ]
  },
  {
   "cell_type": "code",
   "execution_count": 14,
   "id": "84c29be3",
   "metadata": {},
   "outputs": [],
   "source": [
    "X_train, X_test, y_train, y_test = train_test_split(X_encoded, y, test_size=0.2, random_state=42)\n"
   ]
  },
  {
   "cell_type": "code",
   "execution_count": 15,
   "id": "e7b53262",
   "metadata": {},
   "outputs": [
    {
     "data": {
      "text/plain": [
       "DecisionTreeRegressor(random_state=42)"
      ]
     },
     "execution_count": 15,
     "metadata": {},
     "output_type": "execute_result"
    }
   ],
   "source": [
    "model = DecisionTreeRegressor(random_state=42)\n",
    "model.fit(X_train, y_train)\n"
   ]
  },
  {
   "cell_type": "code",
   "execution_count": 16,
   "id": "0ecba21d",
   "metadata": {},
   "outputs": [],
   "source": [
    "y_pred = model.predict(X_test)\n"
   ]
  },
  {
   "cell_type": "code",
   "execution_count": 17,
   "id": "08b76d91",
   "metadata": {},
   "outputs": [
    {
     "name": "stdout",
     "output_type": "stream",
     "text": [
      "Mean Squared Error (MSE):  0.4260537086641983\n",
      "Mean Absolute Error (MAE):  0.40073086196503915\n",
      "R-squared (R2):  -0.3582416514641251\n",
      "Explained Variance Score: -0.3549649333872922\n"
     ]
    }
   ],
   "source": [
    "mse = mean_squared_error(y_test, y_pred)\n",
    "mae = mean_absolute_error(y_test, y_pred)\n",
    "r2 = r2_score(y_test, y_pred)\n",
    "explained_var = explained_variance_score(y_test, y_pred)\n",
    "print(\"Mean Squared Error (MSE): \", mse)\n",
    "print(\"Mean Absolute Error (MAE): \", mae)\n",
    "print(\"R-squared (R2): \", r2)\n",
    "print(\"Explained Variance Score:\", explained_var)\n"
   ]
  },
  {
   "cell_type": "markdown",
   "id": "c072e18f",
   "metadata": {},
   "source": []
  },
  {
   "cell_type": "code",
   "execution_count": null,
   "id": "20b5fccb",
   "metadata": {},
   "outputs": [],
   "source": []
  }
 ],
 "metadata": {
  "kernelspec": {
   "display_name": "Python 3 (ipykernel)",
   "language": "python",
   "name": "python3"
  },
  "language_info": {
   "codemirror_mode": {
    "name": "ipython",
    "version": 3
   },
   "file_extension": ".py",
   "mimetype": "text/x-python",
   "name": "python",
   "nbconvert_exporter": "python",
   "pygments_lexer": "ipython3",
   "version": "3.9.13"
  }
 },
 "nbformat": 4,
 "nbformat_minor": 5
}
