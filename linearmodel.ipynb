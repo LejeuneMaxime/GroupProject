{
 "cells": [
  {
   "cell_type": "code",
   "execution_count": 1,
   "id": "85345b10",
   "metadata": {},
   "outputs": [],
   "source": [
    "from IPython.display import display\n",
    "import json\n",
    "import pandas as pd\n",
    "pd.options.display.max_columns = None # Display all columns of a dataframe\n",
    "pd.options.display.max_rows = 700\n",
    "from pprint import pprint\n",
    "import time\n",
    "import os\n",
    "from selenium import webdriver\n",
    "import re\n",
    "import requests\n",
    "from bs4 import BeautifulSoup"
   ]
  },
  {
   "cell_type": "code",
   "execution_count": 2,
   "id": "bc897e27",
   "metadata": {},
   "outputs": [],
   "source": [
    "import numpy as np\n",
    "import pandas as pd\n",
    "# import patsy\n",
    "\n",
    "from sklearn.preprocessing import StandardScaler, OneHotEncoder\n",
    "from sklearn.model_selection import GridSearchCV, KFold, train_test_split\n",
    "from sklearn.linear_model import LinearRegression\n",
    "from sklearn.model_selection import train_test_split\n",
    "from sklearn.metrics import mean_squared_error, r2_score, mean_absolute_error\n",
    "import seaborn as sns\n",
    "import matplotlib.pyplot as plt"
   ]
  },
  {
   "cell_type": "markdown",
   "id": "c6c165c7",
   "metadata": {},
   "source": [
    "In this project, we planned to train a model to predict\n",
    "users’ rating of a business. The motivation includes that if\n",
    "we can predict how a user is going to rate a business, then we\n",
    "can recommend the business that the user is more likely to\n",
    "rate higher than the others"
   ]
  },
  {
   "cell_type": "code",
   "execution_count": 3,
   "id": "10a9da19",
   "metadata": {},
   "outputs": [
    {
     "data": {
      "text/html": [
       "<div>\n",
       "<style scoped>\n",
       "    .dataframe tbody tr th:only-of-type {\n",
       "        vertical-align: middle;\n",
       "    }\n",
       "\n",
       "    .dataframe tbody tr th {\n",
       "        vertical-align: top;\n",
       "    }\n",
       "\n",
       "    .dataframe thead th {\n",
       "        text-align: right;\n",
       "    }\n",
       "</style>\n",
       "<table border=\"1\" class=\"dataframe\">\n",
       "  <thead>\n",
       "    <tr style=\"text-align: right;\">\n",
       "      <th></th>\n",
       "      <th>Name</th>\n",
       "      <th>Rating</th>\n",
       "      <th>Type</th>\n",
       "      <th>Address</th>\n",
       "      <th>Average budget</th>\n",
       "      <th>Maximum capacity</th>\n",
       "    </tr>\n",
       "  </thead>\n",
       "  <tbody>\n",
       "    <tr>\n",
       "      <th>0</th>\n",
       "      <td>Le Chalet De La Forêt</td>\n",
       "      <td>4.25</td>\n",
       "      <td>Français</td>\n",
       "      <td>1180 Uccle</td>\n",
       "      <td>180</td>\n",
       "      <td>Not Available</td>\n",
       "    </tr>\n",
       "    <tr>\n",
       "      <th>1</th>\n",
       "      <td>La Buvette</td>\n",
       "      <td>4.3</td>\n",
       "      <td>Français</td>\n",
       "      <td>1060 Saint-Gilles</td>\n",
       "      <td>58</td>\n",
       "      <td>Not Available</td>\n",
       "    </tr>\n",
       "    <tr>\n",
       "      <th>61</th>\n",
       "      <td>Fanny Thai</td>\n",
       "      <td>4.25</td>\n",
       "      <td>Thaïlandais</td>\n",
       "      <td>1000 Bruxelles</td>\n",
       "      <td>24</td>\n",
       "      <td>Not Available</td>\n",
       "    </tr>\n",
       "    <tr>\n",
       "      <th>62</th>\n",
       "      <td>Brinz'L</td>\n",
       "      <td>4.166666667</td>\n",
       "      <td>Français</td>\n",
       "      <td>1180 Uccle</td>\n",
       "      <td>70</td>\n",
       "      <td>Not Available</td>\n",
       "    </tr>\n",
       "    <tr>\n",
       "      <th>63</th>\n",
       "      <td>Gou</td>\n",
       "      <td>4.166666667</td>\n",
       "      <td>Français</td>\n",
       "      <td>1150 Woluwe-Saint-Pierre</td>\n",
       "      <td>35</td>\n",
       "      <td>Not Available</td>\n",
       "    </tr>\n",
       "  </tbody>\n",
       "</table>\n",
       "</div>"
      ],
      "text/plain": [
       "                     Name       Rating         Type  \\\n",
       "0   Le Chalet De La Forêt         4.25     Français   \n",
       "1              La Buvette          4.3     Français   \n",
       "61             Fanny Thai         4.25  Thaïlandais   \n",
       "62                Brinz'L  4.166666667     Français   \n",
       "63                    Gou  4.166666667     Français   \n",
       "\n",
       "                                      Address Average budget Maximum capacity  \n",
       "0                                 1180 Uccle             180    Not Available  \n",
       "1                          1060 Saint-Gilles              58    Not Available  \n",
       "61                             1000 Bruxelles             24    Not Available  \n",
       "62                                1180 Uccle              70    Not Available  \n",
       "63                  1150 Woluwe-Saint-Pierre              35    Not Available  "
      ]
     },
     "execution_count": 3,
     "metadata": {},
     "output_type": "execute_result"
    }
   ],
   "source": [
    "df18=pd.read_csv(\"DataRestaurants.csv\")\n",
    "df18=df18.drop(df18.index[2:61])\n",
    "df18.head()"
   ]
  },
  {
   "cell_type": "code",
   "execution_count": 4,
   "id": "3f414e12",
   "metadata": {},
   "outputs": [
    {
     "name": "stdout",
     "output_type": "stream",
     "text": [
      "Name                  0\n",
      "Rating                0\n",
      "Type                  0\n",
      "Address               0\n",
      "Average budget       70\n",
      "Maximum capacity    424\n",
      "dtype: int64\n"
     ]
    }
   ],
   "source": [
    "df18.columns\n",
    "na_counts = (df18 == 'Not Available').sum()\n",
    "print(na_counts)"
   ]
  },
  {
   "cell_type": "code",
   "execution_count": 5,
   "id": "a0119349",
   "metadata": {},
   "outputs": [
    {
     "data": {
      "text/html": [
       "<div>\n",
       "<style scoped>\n",
       "    .dataframe tbody tr th:only-of-type {\n",
       "        vertical-align: middle;\n",
       "    }\n",
       "\n",
       "    .dataframe tbody tr th {\n",
       "        vertical-align: top;\n",
       "    }\n",
       "\n",
       "    .dataframe thead th {\n",
       "        text-align: right;\n",
       "    }\n",
       "</style>\n",
       "<table border=\"1\" class=\"dataframe\">\n",
       "  <thead>\n",
       "    <tr style=\"text-align: right;\">\n",
       "      <th></th>\n",
       "      <th>Name</th>\n",
       "      <th>Rating</th>\n",
       "      <th>Type</th>\n",
       "      <th>Address</th>\n",
       "      <th>Average budget</th>\n",
       "    </tr>\n",
       "  </thead>\n",
       "  <tbody>\n",
       "    <tr>\n",
       "      <th>0</th>\n",
       "      <td>Le Chalet De La Forêt</td>\n",
       "      <td>4.25</td>\n",
       "      <td>Français</td>\n",
       "      <td>1180 Uccle</td>\n",
       "      <td>180</td>\n",
       "    </tr>\n",
       "    <tr>\n",
       "      <th>1</th>\n",
       "      <td>La Buvette</td>\n",
       "      <td>4.3</td>\n",
       "      <td>Français</td>\n",
       "      <td>1060 Saint-Gilles</td>\n",
       "      <td>58</td>\n",
       "    </tr>\n",
       "    <tr>\n",
       "      <th>61</th>\n",
       "      <td>Fanny Thai</td>\n",
       "      <td>4.25</td>\n",
       "      <td>Thaïlandais</td>\n",
       "      <td>1000 Bruxelles</td>\n",
       "      <td>24</td>\n",
       "    </tr>\n",
       "    <tr>\n",
       "      <th>62</th>\n",
       "      <td>Brinz'L</td>\n",
       "      <td>4.166666667</td>\n",
       "      <td>Français</td>\n",
       "      <td>1180 Uccle</td>\n",
       "      <td>70</td>\n",
       "    </tr>\n",
       "    <tr>\n",
       "      <th>63</th>\n",
       "      <td>Gou</td>\n",
       "      <td>4.166666667</td>\n",
       "      <td>Français</td>\n",
       "      <td>1150 Woluwe-Saint-Pierre</td>\n",
       "      <td>35</td>\n",
       "    </tr>\n",
       "  </tbody>\n",
       "</table>\n",
       "</div>"
      ],
      "text/plain": [
       "                     Name       Rating         Type  \\\n",
       "0   Le Chalet De La Forêt         4.25     Français   \n",
       "1              La Buvette          4.3     Français   \n",
       "61             Fanny Thai         4.25  Thaïlandais   \n",
       "62                Brinz'L  4.166666667     Français   \n",
       "63                    Gou  4.166666667     Français   \n",
       "\n",
       "                                      Address Average budget  \n",
       "0                                 1180 Uccle             180  \n",
       "1                          1060 Saint-Gilles              58  \n",
       "61                             1000 Bruxelles             24  \n",
       "62                                1180 Uccle              70  \n",
       "63                  1150 Woluwe-Saint-Pierre              35  "
      ]
     },
     "execution_count": 5,
     "metadata": {},
     "output_type": "execute_result"
    }
   ],
   "source": [
    "del df18['Maximum capacity']\n",
    "df18.head()"
   ]
  },
  {
   "cell_type": "code",
   "execution_count": 6,
   "id": "5fde7dc5",
   "metadata": {},
   "outputs": [
    {
     "name": "stdout",
     "output_type": "stream",
     "text": [
      "Name              object\n",
      "Rating            object\n",
      "Type              object\n",
      "Address           object\n",
      "Average budget    object\n",
      "dtype: object\n"
     ]
    }
   ],
   "source": [
    "print(df18.dtypes)"
   ]
  },
  {
   "cell_type": "code",
   "execution_count": 7,
   "id": "8dd39db6",
   "metadata": {},
   "outputs": [
    {
     "data": {
      "text/plain": [
       "(424, 5)"
      ]
     },
     "execution_count": 7,
     "metadata": {},
     "output_type": "execute_result"
    }
   ],
   "source": [
    "df18.shape"
   ]
  },
  {
   "cell_type": "code",
   "execution_count": 8,
   "id": "f07f6035",
   "metadata": {},
   "outputs": [],
   "source": [
    "df18 = df18.drop(df18[df18.eq('Not available').any(axis=1)].index)\n",
    "df18 = df18.reset_index(drop=True)"
   ]
  },
  {
   "cell_type": "code",
   "execution_count": 9,
   "id": "07640e02",
   "metadata": {},
   "outputs": [],
   "source": [
    "df18 = df18.drop(df18[df18.eq('Not Available').any(axis=1)].index)\n",
    "df18 = df18.reset_index(drop=True)"
   ]
  },
  {
   "cell_type": "markdown",
   "id": "c24ca19b",
   "metadata": {},
   "source": [
    "Les 'NA' était pas écrits pariels (?)"
   ]
  },
  {
   "cell_type": "code",
   "execution_count": 10,
   "id": "95b2e841",
   "metadata": {},
   "outputs": [
    {
     "data": {
      "text/plain": [
       "(341, 5)"
      ]
     },
     "execution_count": 10,
     "metadata": {},
     "output_type": "execute_result"
    }
   ],
   "source": [
    "df18.shape"
   ]
  },
  {
   "cell_type": "code",
   "execution_count": 11,
   "id": "a2ee1928",
   "metadata": {
    "scrolled": true
   },
   "outputs": [
    {
     "name": "stdout",
     "output_type": "stream",
     "text": [
      "Name               object\n",
      "Rating            float64\n",
      "Type               object\n",
      "Address            object\n",
      "Average budget    float64\n",
      "dtype: object\n"
     ]
    }
   ],
   "source": [
    "df18['Average budget'] = pd.to_numeric(df18['Average budget'], errors='coerce')\n",
    "df18['Rating'] = pd.to_numeric(df18['Rating'], errors='coerce')\n",
    "print(df18.dtypes)"
   ]
  },
  {
   "cell_type": "code",
   "execution_count": 12,
   "id": "9cfa289f",
   "metadata": {
    "scrolled": true
   },
   "outputs": [
    {
     "name": "stdout",
     "output_type": "stream",
     "text": [
      "Name              0\n",
      "Rating            1\n",
      "Type              0\n",
      "Address           0\n",
      "Average budget    0\n",
      "dtype: int64\n"
     ]
    }
   ],
   "source": [
    "print(df18.isnull().sum())\n"
   ]
  },
  {
   "cell_type": "code",
   "execution_count": 13,
   "id": "dcb54a39",
   "metadata": {},
   "outputs": [],
   "source": [
    "df18 = df18.dropna()"
   ]
  },
  {
   "cell_type": "code",
   "execution_count": 14,
   "id": "21d73e0c",
   "metadata": {},
   "outputs": [],
   "source": [
    "X = df18.loc[:, ['Type', 'Address', 'Average budget']]\n",
    "y=df18['Rating']"
   ]
  },
  {
   "cell_type": "code",
   "execution_count": 15,
   "id": "21460d39",
   "metadata": {},
   "outputs": [],
   "source": [
    "X_train, X_test, y_train, y_test = train_test_split(X, y, train_size=0.8, random_state=42)\n",
    "#42 for the answer of all question in universe ;)"
   ]
  },
  {
   "cell_type": "code",
   "execution_count": 16,
   "id": "85720a8e",
   "metadata": {
    "scrolled": true
   },
   "outputs": [
    {
     "name": "stdout",
     "output_type": "stream",
     "text": [
      "Categories in training set: {'Européen', 'Africain', 'Indien', 'Vietnamien', 'Péruvien', 'Du Monde', 'Asiatique', 'Éthiopien', 'Brésilien', 'Iranien', 'Indonésien', 'Malgache', 'Belge', 'Japonais', 'Méditerranéen', 'Slave', 'Thaïlandais', 'Américain', 'Grec', 'Turc', 'Espagnol', 'Marocain', 'Italien', 'Libanais', 'Français', 'Chinois'}\n",
      "Categories in test set: {'Espagnol', 'Japonais', 'Européen', 'Italien', 'Libanais', 'Thaïlandais', 'Vietnamien', 'Indien', 'Américain', 'Grec', 'Suisse', 'Français', 'Sud-américain', 'Du Monde', 'Chinois', 'Belge'}\n"
     ]
    }
   ],
   "source": [
    "train_categories = set(X_train['Type'])\n",
    "test_categories = set(X_test['Type'])\n",
    "print(\"Categories in training set:\", train_categories)\n",
    "print(\"Categories in test set:\", test_categories)"
   ]
  },
  {
   "cell_type": "markdown",
   "id": "c3aeca78",
   "metadata": {},
   "source": [
    "Le problème c'est que certaines peuvent ne pas être dans le training set et dans le test set ==> problème pipeline"
   ]
  },
  {
   "cell_type": "code",
   "execution_count": 17,
   "id": "d588c816",
   "metadata": {},
   "outputs": [
    {
     "name": "stdout",
     "output_type": "stream",
     "text": [
      "--- Total ---\n",
      "4.000000    0.394118\n",
      "3.500000    0.211765\n",
      "4.500000    0.208824\n",
      "3.000000    0.064706\n",
      "2.500000    0.029412\n",
      "5.000000    0.029412\n",
      "1.000000    0.014706\n",
      "2.000000    0.008824\n",
      "0.500000    0.005882\n",
      "4.250000    0.005882\n",
      "4.166667    0.005882\n",
      "2.250000    0.002941\n",
      "4.300000    0.002941\n",
      "3.333333    0.002941\n",
      "3.833333    0.002941\n",
      "3.750000    0.002941\n",
      "4.125000    0.002941\n",
      "1.500000    0.002941\n",
      "Name: Rating, dtype: float64\n",
      "--- Train ---\n",
      "4.000000    0.382353\n",
      "3.500000    0.235294\n",
      "4.500000    0.213235\n",
      "3.000000    0.051471\n",
      "2.500000    0.029412\n",
      "5.000000    0.025735\n",
      "1.000000    0.014706\n",
      "2.000000    0.011029\n",
      "0.500000    0.007353\n",
      "4.250000    0.007353\n",
      "2.250000    0.003676\n",
      "3.750000    0.003676\n",
      "4.166667    0.003676\n",
      "1.500000    0.003676\n",
      "3.333333    0.003676\n",
      "4.300000    0.003676\n",
      "Name: Rating, dtype: float64\n",
      "--- Test ---\n",
      "4.000000    0.441176\n",
      "4.500000    0.191176\n",
      "3.500000    0.117647\n",
      "3.000000    0.117647\n",
      "5.000000    0.044118\n",
      "2.500000    0.029412\n",
      "3.833333    0.014706\n",
      "4.125000    0.014706\n",
      "4.166667    0.014706\n",
      "1.000000    0.014706\n",
      "Name: Rating, dtype: float64\n"
     ]
    }
   ],
   "source": [
    "print(\"--- Total ---\")\n",
    "print(y.value_counts(normalize=True))\n",
    "print(\"--- Train ---\")\n",
    "print(y_train.value_counts(normalize=True))\n",
    "print(\"--- Test ---\")\n",
    "print(y_test.value_counts(normalize=True))"
   ]
  },
  {
   "cell_type": "code",
   "execution_count": 18,
   "id": "bc108185",
   "metadata": {},
   "outputs": [],
   "source": [
    "from sklearn.compose import ColumnTransformer\n",
    "from sklearn.preprocessing import StandardScaler, OneHotEncoder\n",
    "from sklearn.pipeline import Pipeline\n",
    "\n"
   ]
  },
  {
   "cell_type": "code",
   "execution_count": 19,
   "id": "ae78fe5c",
   "metadata": {},
   "outputs": [],
   "source": [
    "preprocessor = ColumnTransformer(\n",
    "    transformers=[\n",
    "        ('numeric', StandardScaler(), ['Average budget']),\n",
    "        ('categorical', OneHotEncoder(handle_unknown='ignore'), ['Type', 'Address'])\n",
    "    ])"
   ]
  },
  {
   "cell_type": "code",
   "execution_count": 20,
   "id": "bc84b786",
   "metadata": {},
   "outputs": [],
   "source": [
    "pipeline = Pipeline(steps=[\n",
    "    ('preprocessor', preprocessor),\n",
    "    ('lin_reg', LinearRegression())\n",
    "])"
   ]
  },
  {
   "cell_type": "code",
   "execution_count": 21,
   "id": "68347629",
   "metadata": {
    "scrolled": true
   },
   "outputs": [
    {
     "data": {
      "text/plain": [
       "Pipeline(steps=[('preprocessor',\n",
       "                 ColumnTransformer(transformers=[('numeric', StandardScaler(),\n",
       "                                                  ['Average budget']),\n",
       "                                                 ('categorical',\n",
       "                                                  OneHotEncoder(handle_unknown='ignore'),\n",
       "                                                  ['Type', 'Address'])])),\n",
       "                ('lin_reg', LinearRegression())])"
      ]
     },
     "execution_count": 21,
     "metadata": {},
     "output_type": "execute_result"
    }
   ],
   "source": [
    "pipeline.fit(X_train, y_train)\n"
   ]
  },
  {
   "cell_type": "code",
   "execution_count": 22,
   "id": "7e5bc83a",
   "metadata": {},
   "outputs": [],
   "source": [
    "y_pred = pipeline.predict(X_test)\n"
   ]
  },
  {
   "cell_type": "code",
   "execution_count": 23,
   "id": "e5a7b868",
   "metadata": {},
   "outputs": [],
   "source": [
    "y_pred = pipeline.predict(X_test)\n"
   ]
  },
  {
   "cell_type": "code",
   "execution_count": 24,
   "id": "12401219",
   "metadata": {
    "scrolled": true
   },
   "outputs": [
    {
     "name": "stdout",
     "output_type": "stream",
     "text": [
      "[3.92204358 3.46515826 3.99896622 3.90166342 3.29832473 3.1288391\n",
      " 3.92635729 3.98724722 3.718868   3.82319167 3.78956689 3.7918168\n",
      " 3.37666421 4.0159906  3.77156968 3.91524043 3.85596808 3.59312074\n",
      " 4.33488476 3.93193256 3.43811088 3.88387644 4.38626628 3.9776279\n",
      " 3.69885765 4.0167532  3.48593669 3.95539417 3.83827086 3.84216684\n",
      " 3.81239659 4.02407364 3.78268654 3.81356867 4.09661188 3.13995596\n",
      " 3.66010076 3.86130338 3.35769652 4.04102756 3.87448521 4.08790113\n",
      " 4.03046324 4.6948322  4.1062241  3.77406896 4.6280169  3.27408027\n",
      " 4.0628419  3.66971894 3.90870334 3.87998933 3.08551365 3.84715694\n",
      " 3.33546279 3.95501696 3.88609981 4.13327438 4.15550811 4.10177736\n",
      " 3.76501417 4.10400073 3.32135737 3.84715694 3.93117384 3.9249824\n",
      " 2.91592567 4.0415801 ]\n"
     ]
    }
   ],
   "source": [
    "print(y_pred)"
   ]
  },
  {
   "cell_type": "code",
   "execution_count": 25,
   "id": "ef67ced5",
   "metadata": {},
   "outputs": [],
   "source": [
    "mse = mean_squared_error(y_test, y_pred)\n"
   ]
  },
  {
   "cell_type": "code",
   "execution_count": 26,
   "id": "fa81d1e7",
   "metadata": {},
   "outputs": [],
   "source": [
    "mae = mean_absolute_error(y_test, y_pred)\n"
   ]
  },
  {
   "cell_type": "code",
   "execution_count": 27,
   "id": "ca23d198",
   "metadata": {},
   "outputs": [],
   "source": [
    "r2 = r2_score(y_test, y_pred)\n"
   ]
  },
  {
   "cell_type": "code",
   "execution_count": 28,
   "id": "8fcc97be",
   "metadata": {
    "scrolled": true
   },
   "outputs": [
    {
     "name": "stdout",
     "output_type": "stream",
     "text": [
      "Mean Squared Error (MSE):  0.4464912499771423\n",
      "Mean Absolute Error (MAE):  0.5000177500168457\n",
      "R-squared (R2):  -0.05459258622687391\n"
     ]
    }
   ],
   "source": [
    "print(\"Mean Squared Error (MSE): \", mse)\n",
    "print(\"Mean Absolute Error (MAE): \", mae)\n",
    "print(\"R-squared (R2): \", r2)"
   ]
  },
  {
   "cell_type": "code",
   "execution_count": 29,
   "id": "83038f38",
   "metadata": {},
   "outputs": [],
   "source": [
    "from sklearn.tree import DecisionTreeRegressor\n",
    "from sklearn.model_selection import train_test_split\n",
    "from sklearn.metrics import mean_squared_error, r2_score"
   ]
  },
  {
   "cell_type": "markdown",
   "id": "02638bdf",
   "metadata": {},
   "source": []
  },
  {
   "cell_type": "code",
   "execution_count": null,
   "id": "3312eeb2",
   "metadata": {},
   "outputs": [],
   "source": []
  }
 ],
 "metadata": {
  "kernelspec": {
   "display_name": "Python 3 (ipykernel)",
   "language": "python",
   "name": "python3"
  },
  "language_info": {
   "codemirror_mode": {
    "name": "ipython",
    "version": 3
   },
   "file_extension": ".py",
   "mimetype": "text/x-python",
   "name": "python",
   "nbconvert_exporter": "python",
   "pygments_lexer": "ipython3",
   "version": "3.9.13"
  }
 },
 "nbformat": 4,
 "nbformat_minor": 5
}
